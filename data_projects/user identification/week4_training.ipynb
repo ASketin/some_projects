{
 "cells": [
  {
   "cell_type": "markdown",
   "metadata": {},
   "source": [
    "<center>\n",
    "<img src=\"https://habrastorage.org/web/677/8e1/337/6778e1337c3d4b159d7e99df94227cb2.jpg\"/>\n",
    "## Специализация \"Машинное обучение и анализ данных\"\n",
    "<center>Автор материала: программист-исследователь Mail.Ru Group, старший преподаватель Факультета Компьютерных Наук ВШЭ [Юрий Кашницкий](https://yorko.github.io/)"
   ]
  },
  {
   "cell_type": "markdown",
   "metadata": {},
   "source": [
    "# <center> Capstone проект №1 <br> Идентификация пользователей по посещенным веб-страницам\n",
    "<img src='http://i.istockimg.com/file_thumbview_approve/21546327/5/stock-illustration-21546327-identification-de-l-utilisateur.jpg'>\n",
    "\n",
    "# <center>Неделя 4.  Сравнение алгоритмов классификации\n",
    "\n",
    "Теперь мы наконец подойдем к обучению моделей классификации, сравним на кросс-валидации несколько алгоритмов, разберемся, какие параметры длины сессии (*session_length* и *window_size*) лучше использовать. Также для выбранного алгоритма построим кривые валидации (как качество классификации зависит от одного из гиперпараметров алгоритма) и кривые обучения (как качество классификации зависит от объема выборки).\n",
    "\n",
    "**План 4 недели:**\n",
    "- Часть 1. Сравнение нескольких алгоритмов на сессиях из 10 сайтов\n",
    "- Часть 2. Выбор параметров – длины сессии и ширины окна\n",
    "- Часть 3. Идентификация  конкретного пользователя и кривые обучения\n",
    " \n",
    "\n",
    "\n",
    "**В этой части проекта Вам могут быть полезны видеозаписи следующих лекций курса \"Обучение на размеченных данных\":**\n",
    "   - [Линейная классификация](https://www.coursera.org/learn/supervised-learning/lecture/jqLcO/linieinaia-klassifikatsiia)\n",
    "   - [Сравнение алгоритмов и выбор гиперпараметров](https://www.coursera.org/learn/supervised-learning/lecture/aF79U/sravnieniie-alghoritmov-i-vybor-ghipierparamietrov)\n",
    "   - [Кросс-валидация. Sklearn.cross_validation](https://www.coursera.org/learn/supervised-learning/lecture/XbHEk/kross-validatsiia-sklearn-cross-validation)\n",
    "   - [Линейные модели. Sklearn.linear_model. Классификация](https://www.coursera.org/learn/supervised-learning/lecture/EBg9t/linieinyie-modieli-sklearn-linear-model-klassifikatsiia)\n",
    "   - и многие другие\n"
   ]
  },
  {
   "cell_type": "markdown",
   "metadata": {},
   "source": [
    "### Задание\n",
    "1. Заполните код в этой тетрадке \n",
    "2. Если вы проходите специализацию Яндеса и МФТИ, пошлите файл с ответами в соответствующем Programming Assignment. <br> Если вы проходите курс ODS, выберите ответы в [веб-форме](https://docs.google.com/forms/d/12VB7kmzDoSVzSpQNaJp0tR-2t8K8PynQopP3dypf7i4).  "
   ]
  },
  {
   "cell_type": "code",
   "execution_count": 1,
   "metadata": {
    "collapsed": true
   },
   "outputs": [],
   "source": [
    "# pip install watermark\n",
    "%load_ext watermark"
   ]
  },
  {
   "cell_type": "code",
   "execution_count": 2,
   "metadata": {},
   "outputs": [
    {
     "name": "stdout",
     "output_type": "stream",
     "text": [
      "CPython 3.6.1\n",
      "IPython 5.3.0\n",
      "\n",
      "numpy 1.13.3\n",
      "scipy 0.19.0\n",
      "pandas 0.20.1\n",
      "matplotlib 2.1.0\n",
      "statsmodels 0.8.0\n",
      "sklearn 0.19.0\n",
      "\n",
      "compiler   : GCC 4.2.1 Compatible Apple LLVM 6.0 (clang-600.0.57)\n",
      "system     : Darwin\n",
      "release    : 16.7.0\n",
      "machine    : x86_64\n",
      "processor  : i386\n",
      "CPU cores  : 8\n",
      "interpreter: 64bit\n",
      "Git hash   : ca8e6e4e47061a4c44a8506c9741b1c65fc9249a\n"
     ]
    }
   ],
   "source": [
    "%watermark -v -m -p numpy,scipy,pandas,matplotlib,statsmodels,sklearn -g"
   ]
  },
  {
   "cell_type": "code",
   "execution_count": 1,
   "metadata": {},
   "outputs": [],
   "source": [
    "from __future__ import division, print_function\n",
    "# отключим всякие предупреждения Anaconda\n",
    "import warnings\n",
    "warnings.filterwarnings('ignore')\n",
    "from time import time\n",
    "import itertools\n",
    "import os\n",
    "import numpy as np\n",
    "import pandas as pd\n",
    "import seaborn as sns\n",
    "%matplotlib inline\n",
    "from matplotlib import pyplot as plt\n",
    "import pickle\n",
    "from scipy.sparse import csr_matrix\n",
    "from sklearn.model_selection import train_test_split, cross_val_score, StratifiedKFold, GridSearchCV\n",
    "from sklearn.metrics import accuracy_score, f1_score"
   ]
  },
  {
   "cell_type": "code",
   "execution_count": 2,
   "metadata": {},
   "outputs": [],
   "source": [
    "# Поменяйте на свой путь к данным\n",
    "PATH_TO_DATA = 'capstone_user_identification'"
   ]
  },
  {
   "cell_type": "markdown",
   "metadata": {},
   "source": [
    "## Часть 1. Сравнение нескольких алгоритмов на сессиях из 10 сайтов"
   ]
  },
  {
   "cell_type": "markdown",
   "metadata": {},
   "source": [
    "**Загрузим сериализованные ранее объекты *X_sparse_10users* и *y_10users*, соответствующие обучающей выборке для 10 пользователей.**"
   ]
  },
  {
   "cell_type": "code",
   "execution_count": 3,
   "metadata": {},
   "outputs": [],
   "source": [
    "with open(os.path.join(PATH_TO_DATA, \n",
    "         'X_sparse_10users.pkl'), 'rb') as X_sparse_10users_pkl:\n",
    "    X_sparse_10users = pickle.load(X_sparse_10users_pkl)\n",
    "with open(os.path.join(PATH_TO_DATA, \n",
    "                       'y_10users.pkl'), 'rb') as y_10users_pkl:\n",
    "    y_10users = pickle.load(y_10users_pkl)"
   ]
  },
  {
   "cell_type": "markdown",
   "metadata": {},
   "source": [
    "**Здесь более 14 тысяч сессий и почти 5 тысяч уникальных посещенных сайтов.**"
   ]
  },
  {
   "cell_type": "code",
   "execution_count": 4,
   "metadata": {},
   "outputs": [
    {
     "data": {
      "text/plain": [
       "(14061, 4913)"
      ]
     },
     "execution_count": 4,
     "metadata": {},
     "output_type": "execute_result"
    }
   ],
   "source": [
    "X_sparse_10users.shape"
   ]
  },
  {
   "cell_type": "markdown",
   "metadata": {},
   "source": [
    "**Разобьем выборку на 2 части. На одной будем проводить кросс-валидацию, на второй – оценивать модель, обученную после кросс-валидации.**"
   ]
  },
  {
   "cell_type": "code",
   "execution_count": 5,
   "metadata": {},
   "outputs": [],
   "source": [
    "X_train, X_valid, y_train, y_valid = train_test_split(X_sparse_10users, y_10users, \n",
    "                                                      test_size=0.3, \n",
    "                                                     random_state=17, stratify=y_10users)"
   ]
  },
  {
   "cell_type": "markdown",
   "metadata": {},
   "source": [
    "**Зададим заранее тип кросс-валидации: 3-кратная, с перемешиванием, параметр random_state=17 – для воспроизводимости.**"
   ]
  },
  {
   "cell_type": "code",
   "execution_count": 6,
   "metadata": {},
   "outputs": [],
   "source": [
    "skf = StratifiedKFold(n_splits=3, shuffle=True, random_state=17)"
   ]
  },
  {
   "cell_type": "markdown",
   "metadata": {},
   "source": [
    "**Вспомогательная функция для отрисовки кривых валидации после запуска GridSearchCV (или RandomizedCV).**"
   ]
  },
  {
   "cell_type": "code",
   "execution_count": 7,
   "metadata": {},
   "outputs": [],
   "source": [
    "def plot_validation_curves(param_values, grid_cv_results_):\n",
    "    train_mu, train_std = grid_cv_results_['mean_train_score'], grid_cv_results_['std_train_score']\n",
    "    valid_mu, valid_std = grid_cv_results_['mean_test_score'], grid_cv_results_['std_test_score']\n",
    "    train_line = plt.plot(param_values, train_mu, '-', label='train', color='green')\n",
    "    valid_line = plt.plot(param_values, valid_mu, '-', label='test', color='red')\n",
    "    plt.fill_between(param_values, train_mu - train_std, train_mu + train_std, edgecolor='none',\n",
    "                     facecolor=train_line[0].get_color(), alpha=0.2)\n",
    "    plt.fill_between(param_values, valid_mu - valid_std, valid_mu + valid_std, edgecolor='none',\n",
    "                     facecolor=valid_line[0].get_color(), alpha=0.2)\n",
    "    plt.legend()"
   ]
  },
  {
   "cell_type": "markdown",
   "metadata": {},
   "source": [
    "**1. Обучите `KNeighborsClassifier` со 100 ближайшими соседями (остальные параметры оставьте по умолчанию, только `n_jobs`=-1 для распараллеливания) и посмотрите на долю правильных ответов на 3-кратной кросс-валидации (ради воспроизводимости используйте для этого объект `StratifiedKFold` `skf`) по выборке `(X_train, y_train)` и отдельно на выборке `(X_valid, y_valid)`.**"
   ]
  },
  {
   "cell_type": "code",
   "execution_count": 8,
   "metadata": {},
   "outputs": [],
   "source": [
    "from sklearn.neighbors import KNeighborsClassifier\n",
    "from sklearn.model_selection import cross_val_score\n",
    "from sklearn.metrics import accuracy_score"
   ]
  },
  {
   "cell_type": "code",
   "execution_count": 9,
   "metadata": {},
   "outputs": [],
   "source": [
    "knn = KNeighborsClassifier(n_neighbors=100, n_jobs=-1)"
   ]
  },
  {
   "cell_type": "markdown",
   "metadata": {},
   "source": [
    "**<font color='red'>Вопрос 1. </font> Посчитайте доли правильных ответов для KNeighborsClassifier на кросс-валидации и отложенной выборке. Округлите каждое до 3 знаков после запятой и введите через пробел.**"
   ]
  },
  {
   "cell_type": "code",
   "execution_count": 10,
   "metadata": {},
   "outputs": [],
   "source": [
    "for_knn = X_train.todense()"
   ]
  },
  {
   "cell_type": "code",
   "execution_count": 11,
   "metadata": {},
   "outputs": [],
   "source": [
    "train_cv_score = cross_val_score(knn, for_knn, y_train, cv=skf, scoring=\"accuracy\").mean()"
   ]
  },
  {
   "cell_type": "code",
   "execution_count": 12,
   "metadata": {},
   "outputs": [],
   "source": [
    "knn.fit(for_knn, y_train)\n",
    "test_score = accuracy_score(y_valid, knn.predict(X_valid.todense()))"
   ]
  },
  {
   "cell_type": "code",
   "execution_count": 13,
   "metadata": {},
   "outputs": [],
   "source": [
    "answer1 = list(map(lambda x: str(round(x, 3)), [train_cv_score, test_score]))"
   ]
  },
  {
   "cell_type": "code",
   "execution_count": 14,
   "metadata": {},
   "outputs": [],
   "source": [
    "with open(\"answer_1.txt\", 'w') as file:\n",
    "    file.write(\" \".join(answer1))"
   ]
  },
  {
   "cell_type": "markdown",
   "metadata": {},
   "source": [
    "**2. Обучите случайный лес (`RandomForestClassifier`) из 100 деревьев (для воспроизводимости `random_state`=17). Посмотрите на OOB-оценку (для этого надо сразу установить `oob_score`=True) и на долю правильных ответов на выборке `(X_valid, y_valid)`. Для распараллеливания задайте `n_jobs`=-1.**"
   ]
  },
  {
   "cell_type": "code",
   "execution_count": 15,
   "metadata": {},
   "outputs": [],
   "source": [
    "from sklearn.ensemble import RandomForestClassifier"
   ]
  },
  {
   "cell_type": "code",
   "execution_count": 16,
   "metadata": {},
   "outputs": [],
   "source": [
    "forest = RandomForestClassifier(n_estimators=100, random_state=17, \n",
    "                                oob_score=True, n_jobs=-1)"
   ]
  },
  {
   "cell_type": "markdown",
   "metadata": {},
   "source": [
    "**<font color='red'>Вопрос 2. </font> Посчитайте доли правильных ответов для `RandomForestClassifier` при Out-of-Bag оценке и на отложенной выборке. Округлите каждое до 3 знаков после запятой и введите через пробел.**"
   ]
  },
  {
   "cell_type": "code",
   "execution_count": 17,
   "metadata": {},
   "outputs": [
    {
     "data": {
      "text/plain": [
       "RandomForestClassifier(bootstrap=True, class_weight=None, criterion='gini',\n",
       "                       max_depth=None, max_features='auto', max_leaf_nodes=None,\n",
       "                       min_impurity_decrease=0.0, min_impurity_split=None,\n",
       "                       min_samples_leaf=1, min_samples_split=2,\n",
       "                       min_weight_fraction_leaf=0.0, n_estimators=100,\n",
       "                       n_jobs=-1, oob_score=True, random_state=17, verbose=0,\n",
       "                       warm_start=False)"
      ]
     },
     "execution_count": 17,
     "metadata": {},
     "output_type": "execute_result"
    }
   ],
   "source": [
    "forest.fit(X_train, y_train)"
   ]
  },
  {
   "cell_type": "code",
   "execution_count": 18,
   "metadata": {},
   "outputs": [],
   "source": [
    "test_score = accuracy_score(y_valid, forest.predict(X_valid))"
   ]
  },
  {
   "cell_type": "code",
   "execution_count": 19,
   "metadata": {},
   "outputs": [],
   "source": [
    "def write_answer(num, values):\n",
    "    answer = list(map(lambda x: str(round(x, 3)), values))\n",
    "    with open(f\"answer_{num}.txt\", 'w') as file:\n",
    "        file.write(\" \".join(answer))"
   ]
  },
  {
   "cell_type": "code",
   "execution_count": 20,
   "metadata": {},
   "outputs": [],
   "source": [
    "write_answer(2, [forest.oob_score_, test_score])"
   ]
  },
  {
   "cell_type": "markdown",
   "metadata": {},
   "source": [
    "**3. Обучите логистическую регрессию (`LogisticRegression`) с параметром `C` по умолчанию и `random_state`=17 (для воспроизводимости). Посмотрите на долю правильных ответов на кросс-валидации (используйте объект `skf`, созданный ранее) и на выборке `(X_valid, y_valid)`. Для распараллеливания задайте `n_jobs=-1`.**"
   ]
  },
  {
   "cell_type": "code",
   "execution_count": 21,
   "metadata": {},
   "outputs": [],
   "source": [
    "from sklearn.linear_model import LogisticRegression, LogisticRegressionCV"
   ]
  },
  {
   "cell_type": "code",
   "execution_count": 22,
   "metadata": {},
   "outputs": [],
   "source": [
    "logit = LogisticRegression(random_state=17)\n",
    "\n",
    "train_cv = cross_val_score(logit, X_train, y_train, cv=skf, scoring=\"accuracy\").mean()\n",
    "\n",
    "logit.fit(X_train, y_train)\n",
    "valid_result = accuracy_score(y_valid, logit.predict(X_valid))"
   ]
  },
  {
   "cell_type": "code",
   "execution_count": 23,
   "metadata": {},
   "outputs": [
    {
     "name": "stdout",
     "output_type": "stream",
     "text": [
      "train result: 0.7625486713048025, valid result: 0.7817018250770325\n"
     ]
    }
   ],
   "source": [
    "print(f\"train result: {train_cv}, valid result: {valid_result}\")"
   ]
  },
  {
   "cell_type": "markdown",
   "metadata": {},
   "source": [
    "**Почитайте документацию к [LogisticRegressionCV](http://scikit-learn.org/stable/modules/generated/sklearn.linear_model.LogisticRegressionCV.html). Логистическая регрессия хорошо изучена, и для нее существуют алгоритмы быстрого подбора параметра регуляризации `C` (быстрее, чем с `GridSearchCV`).**\n",
    "\n",
    "**С помощью `LogisticRegressionCV` подберите параметр `C` для `LogisticRegression` сначала в широком диапазоне: 10 значений от 1e-4 до 1e2, используйте `logspace` из `NumPy`. Укажите у `LogisticRegressionCV` параметры `multi_class`='multinomial' и `random_state`=17. Для кросс-валидации используйте объект `skf`, созданный ранее. Для распараллеливания задайте `n_jobs=-1`.**\n",
    "\n",
    "**Нарисуйте кривые валидации по параметру `C`.**"
   ]
  },
  {
   "cell_type": "code",
   "execution_count": 24,
   "metadata": {},
   "outputs": [
    {
     "name": "stdout",
     "output_type": "stream",
     "text": [
      "Wall time: 8.87 s\n"
     ]
    },
    {
     "data": {
      "text/plain": [
       "LogisticRegressionCV(Cs=array([1.00000000e-04, 4.64158883e-04, 2.15443469e-03, 1.00000000e-02,\n",
       "       4.64158883e-02, 2.15443469e-01, 1.00000000e+00, 4.64158883e+00,\n",
       "       2.15443469e+01, 1.00000000e+02]),\n",
       "                     class_weight=None,\n",
       "                     cv=StratifiedKFold(n_splits=3, random_state=17, shuffle=True),\n",
       "                     dual=False, fit_intercept=True, intercept_scaling=1.0,\n",
       "                     l1_ratios=None, max_iter=100, multi_class='multinomial',\n",
       "                     n_jobs=-1, penalty='l2', random_state=17, refit=True,\n",
       "                     scoring='accuracy', solver='lbfgs', tol=0.0001, verbose=0)"
      ]
     },
     "execution_count": 24,
     "metadata": {},
     "output_type": "execute_result"
    }
   ],
   "source": [
    "%%time\n",
    "logit_c_values1 = np.logspace(-4, 2, 10)\n",
    "\n",
    "logit_grid_searcher1 = LogisticRegressionCV(Cs=logit_c_values1, cv=skf,\n",
    "                                           multi_class=\"multinomial\", random_state=17,\n",
    "                                           n_jobs=-1, scoring=\"accuracy\")\n",
    "logit_grid_searcher1.fit(X_train, y_train)"
   ]
  },
  {
   "cell_type": "markdown",
   "metadata": {},
   "source": [
    "Средние значения доли правильных ответов на кросс-валидации по каждому из 10 параметров `C`."
   ]
  },
  {
   "cell_type": "code",
   "execution_count": 25,
   "metadata": {},
   "outputs": [],
   "source": [
    "logit_mean_cv_scores1 = list(v.mean(axis=0) for k, v in logit_grid_searcher1.scores_.items())[0]"
   ]
  },
  {
   "cell_type": "markdown",
   "metadata": {},
   "source": [
    "Выведите лучшее значение доли правильных ответов на кросс-валидации и соответствующее значение `C`."
   ]
  },
  {
   "cell_type": "code",
   "execution_count": 26,
   "metadata": {},
   "outputs": [
    {
     "name": "stdout",
     "output_type": "stream",
     "text": [
      "best score 0.762446642549247 and C value 4.641588833612772\n"
     ]
    }
   ],
   "source": [
    "print(f\"best score {max(logit_mean_cv_scores1)} and C value {logit_grid_searcher1.C_[0]}\")"
   ]
  },
  {
   "cell_type": "markdown",
   "metadata": {},
   "source": [
    "Нарисуйте график зависимости доли правильных ответов на кросс-валидации от `C`."
   ]
  },
  {
   "cell_type": "code",
   "execution_count": 27,
   "metadata": {},
   "outputs": [
    {
     "data": {
      "image/png": "[encoded data removed]",
      "text/plain": [
       "<Figure size 432x288 with 1 Axes>"
      ]
     },
     "metadata": {
      "needs_background": "light"
     },
     "output_type": "display_data"
    }
   ],
   "source": [
    "plt.plot(logit_c_values1, logit_mean_cv_scores1);"
   ]
  },
  {
   "cell_type": "markdown",
   "metadata": {},
   "source": [
    "**Теперь то же самое, только значения параметра `C` перебирайте в диапазоне `np.linspace`(0.1, 7, 20). Опять нарисуйте кривые валидации, определите максимальное значение доли правильных ответов на кросс-валидации.**"
   ]
  },
  {
   "cell_type": "code",
   "execution_count": 28,
   "metadata": {},
   "outputs": [
    {
     "name": "stdout",
     "output_type": "stream",
     "text": [
      "Wall time: 22.9 s\n"
     ]
    },
    {
     "data": {
      "text/plain": [
       "LogisticRegressionCV(Cs=array([0.1       , 0.46315789, 0.82631579, 1.18947368, 1.55263158,\n",
       "       1.91578947, 2.27894737, 2.64210526, 3.00526316, 3.36842105,\n",
       "       3.73157895, 4.09473684, 4.45789474, 4.82105263, 5.18421053,\n",
       "       5.54736842, 5.91052632, 6.27368421, 6.63684211, 7.        ]),\n",
       "                     class_weight=None,\n",
       "                     cv=StratifiedKFold(n_splits=3, random_state=17, shuffle=True),\n",
       "                     dual=False, fit_intercept=True, intercept_scaling=1.0,\n",
       "                     l1_ratios=None, max_iter=100, multi_class='multinomial',\n",
       "                     n_jobs=-1, penalty='l2', random_state=17, refit=True,\n",
       "                     scoring=None, solver='lbfgs', tol=0.0001, verbose=0)"
      ]
     },
     "execution_count": 28,
     "metadata": {},
     "output_type": "execute_result"
    }
   ],
   "source": [
    "%%time\n",
    "logit_c_values2 = np.linspace(0.1, 7, 20)\n",
    "\n",
    "logit_grid_searcher2 = LogisticRegressionCV(Cs=logit_c_values2, cv=skf,\n",
    "                                           multi_class=\"multinomial\", random_state=17,\n",
    "                                           n_jobs=-1)\n",
    "logit_grid_searcher2.fit(X_train, y_train)"
   ]
  },
  {
   "cell_type": "markdown",
   "metadata": {},
   "source": [
    "Средние значения доли правильных ответов на кросс-валидации по каждому из 10 параметров `C`."
   ]
  },
  {
   "cell_type": "code",
   "execution_count": 29,
   "metadata": {},
   "outputs": [],
   "source": [
    "logit_mean_cv_scores2 = list(v.mean(axis=0) for k, v in logit_grid_searcher2.scores_.items())[0]"
   ]
  },
  {
   "cell_type": "markdown",
   "metadata": {},
   "source": [
    "Выведите лучшее значение доли правильных ответов на кросс-валидации и соответствующее значение `C`."
   ]
  },
  {
   "cell_type": "code",
   "execution_count": 30,
   "metadata": {},
   "outputs": [
    {
     "name": "stdout",
     "output_type": "stream",
     "text": [
      "best score 0.7636661867188504 and C value 1.5526315789473686\n"
     ]
    }
   ],
   "source": [
    "print(f\"best score {max(logit_mean_cv_scores2)} and C value {logit_grid_searcher2.C_[0]}\")"
   ]
  },
  {
   "cell_type": "markdown",
   "metadata": {},
   "source": [
    "Нарисуйте график зависимости доли правильных ответов на кросс-валидации от `C`."
   ]
  },
  {
   "cell_type": "code",
   "execution_count": 31,
   "metadata": {},
   "outputs": [
    {
     "data": {
      "image/png": "[encoded data removed]",
      "text/plain": [
       "<Figure size 432x288 with 1 Axes>"
      ]
     },
     "metadata": {
      "needs_background": "light"
     },
     "output_type": "display_data"
    }
   ],
   "source": [
    "plt.plot(logit_c_values2, logit_mean_cv_scores2);"
   ]
  },
  {
   "cell_type": "markdown",
   "metadata": {},
   "source": [
    "Выведите долю правильных ответов на выборке `(X_valid, y_valid)` для логистической регрессии с лучшим найденным значением `C`."
   ]
  },
  {
   "cell_type": "code",
   "execution_count": 32,
   "metadata": {},
   "outputs": [
    {
     "name": "stdout",
     "output_type": "stream",
     "text": [
      "score:  0.7788575491822707\n"
     ]
    }
   ],
   "source": [
    "logit_cv_acc = accuracy_score(y_valid, logit_grid_searcher2.predict(X_valid))\n",
    "print(\"score: \", logit_cv_acc)"
   ]
  },
  {
   "cell_type": "markdown",
   "metadata": {},
   "source": [
    "**<font color='red'>Вопрос 3. </font>Посчитайте доли правильных ответов для `logit_grid_searcher2` на кросс-валидации для лучшего значения параметра `C` и на отложенной выборке. Округлите каждое до 3 знаков после запятой и выведите через пробел.**"
   ]
  },
  {
   "cell_type": "code",
   "execution_count": 33,
   "metadata": {},
   "outputs": [],
   "source": [
    "write_answer(3, [max(logit_mean_cv_scores2), logit_cv_acc])"
   ]
  },
  {
   "cell_type": "markdown",
   "metadata": {},
   "source": [
    "**4. Обучите линейный SVM (`LinearSVC`) с параметром `C`=1 и `random_state`=17 (для воспроизводимости). Посмотрите на долю правильных ответов на кросс-валидации (используйте объект `skf`, созданный ранее) и на выборке `(X_valid, y_valid)`.**"
   ]
  },
  {
   "cell_type": "code",
   "execution_count": 34,
   "metadata": {},
   "outputs": [],
   "source": [
    "from sklearn.svm import LinearSVC"
   ]
  },
  {
   "cell_type": "code",
   "execution_count": 35,
   "metadata": {},
   "outputs": [
    {
     "name": "stdout",
     "output_type": "stream",
     "text": [
      "train result: 0.7625486713048025, valid result: 0.7769613652524295\n"
     ]
    }
   ],
   "source": [
    "svm = LinearSVC(C=1, random_state=17)\n",
    "svm_score = cross_val_score(logit, X_train, y_train, cv=skf, scoring=\"accuracy\").mean()\n",
    "\n",
    "svm.fit(X_train, y_train)\n",
    "svm_valid = accuracy_score(y_valid, svm.predict(X_valid))\n",
    "\n",
    "print(f\"train result: {svm_score}, valid result: {svm_valid}\")"
   ]
  },
  {
   "cell_type": "markdown",
   "metadata": {},
   "source": [
    "**С помощью `GridSearchCV` подберите параметр `C` для SVM сначала в широком диапазоне: 10 значений от 1e-4 до 1e4, используйте `linspace` из NumPy. Нарисуйте кривые валидации.**"
   ]
  },
  {
   "cell_type": "code",
   "execution_count": 36,
   "metadata": {},
   "outputs": [
    {
     "name": "stdout",
     "output_type": "stream",
     "text": [
      "Wall time: 24.7 s\n"
     ]
    },
    {
     "data": {
      "text/plain": [
       "GridSearchCV(cv=StratifiedKFold(n_splits=3, random_state=17, shuffle=True),\n",
       "             error_score='raise-deprecating',\n",
       "             estimator=LinearSVC(C=1, class_weight=None, dual=True,\n",
       "                                 fit_intercept=True, intercept_scaling=1,\n",
       "                                 loss='squared_hinge', max_iter=1000,\n",
       "                                 multi_class='ovr', penalty='l2',\n",
       "                                 random_state=17, tol=0.0001, verbose=0),\n",
       "             iid='warn', n_jobs=-1,\n",
       "             param_grid={'C': array([1.0000000e-04, 1.1111112e+03, 2.2222223e+03, 3.3333334e+03,\n",
       "       4.4444445e+03, 5.5555556e+03, 6.6666667e+03, 7.7777778e+03,\n",
       "       8.8888889e+03, 1.0000000e+04])},\n",
       "             pre_dispatch='2*n_jobs', refit=True, return_train_score=True,\n",
       "             scoring='accuracy', verbose=0)"
      ]
     },
     "execution_count": 36,
     "metadata": {},
     "output_type": "execute_result"
    }
   ],
   "source": [
    "%%time\n",
    "svm_params1 = {'C': np.linspace(1e-4, 1e4, 10)}\n",
    "\n",
    "svm_grid_searcher1 = GridSearchCV(svm, param_grid=svm_params1, scoring=\"accuracy\",\n",
    "                                 n_jobs=-1, cv=skf, return_train_score=True)\n",
    "svm_grid_searcher1.fit(X_train, y_train)"
   ]
  },
  {
   "cell_type": "markdown",
   "metadata": {},
   "source": [
    "Выведите лучшее значение доли правильных ответов на кросс-валидации и соответствующее значение `C`."
   ]
  },
  {
   "cell_type": "code",
   "execution_count": 37,
   "metadata": {},
   "outputs": [
    {
     "name": "stdout",
     "output_type": "stream",
     "text": [
      "best score 0.6890875838244259 and best C 1111.1112\n"
     ]
    }
   ],
   "source": [
    "print(f\"best score {svm_grid_searcher1.best_score_} and best C {svm_grid_searcher1.best_params_['C']}\")"
   ]
  },
  {
   "cell_type": "markdown",
   "metadata": {},
   "source": [
    "Нарисуйте график зависимости доли правильных ответов на кросс-валидации от `C`."
   ]
  },
  {
   "cell_type": "code",
   "execution_count": 38,
   "metadata": {},
   "outputs": [
    {
     "data": {
      "image/png": "[encoded data removed]",
      "text/plain": [
       "<Figure size 432x288 with 1 Axes>"
      ]
     },
     "metadata": {
      "needs_background": "light"
     },
     "output_type": "display_data"
    }
   ],
   "source": [
    "plot_validation_curves(svm_params1['C'], svm_grid_searcher1.cv_results_)"
   ]
  },
  {
   "cell_type": "markdown",
   "metadata": {},
   "source": [
    "**Но мы помним, что с параметром регуляризации по умолчанию (С=1) на кросс-валидации доля правильных ответов выше. Это тот случай (не редкий), когда можно ошибиться и перебирать параметры не в том диапазоне (причина в том, что мы взяли равномерную сетку на большом интервале и упустили действительно хороший интервал значений `C`). Здесь намного осмысленней подбирать `C` в районе 1, к тому же, так модель быстрее обучается, чем при больших `C`. **\n",
    "\n",
    "**С помощью `GridSearchCV` подберите параметр `C` для SVM в диапазоне (1e-3, 1), 30 значений, используйте `linspace` из NumPy. Нарисуйте кривые валидации.**"
   ]
  },
  {
   "cell_type": "code",
   "execution_count": 39,
   "metadata": {},
   "outputs": [
    {
     "name": "stdout",
     "output_type": "stream",
     "text": [
      "Wall time: 29.7 s\n"
     ]
    },
    {
     "data": {
      "text/plain": [
       "GridSearchCV(cv=StratifiedKFold(n_splits=3, random_state=17, shuffle=True),\n",
       "             error_score='raise-deprecating',\n",
       "             estimator=LinearSVC(C=1, class_weight=None, dual=True,\n",
       "                                 fit_intercept=True, intercept_scaling=1,\n",
       "                                 loss='squared_hinge', max_iter=1000,\n",
       "                                 multi_class='ovr', penalty='l2',\n",
       "                                 random_state=17, tol=0.0001, verbose=0),\n",
       "             iid='warn', n_jobs=-1,\n",
       "             param_grid={'C': array([0.001     ,...\n",
       "       0.17324138, 0.20768966, 0.24213793, 0.27658621, 0.31103448,\n",
       "       0.34548276, 0.37993103, 0.41437931, 0.44882759, 0.48327586,\n",
       "       0.51772414, 0.55217241, 0.58662069, 0.62106897, 0.65551724,\n",
       "       0.68996552, 0.72441379, 0.75886207, 0.79331034, 0.82775862,\n",
       "       0.8622069 , 0.89665517, 0.93110345, 0.96555172, 1.        ])},\n",
       "             pre_dispatch='2*n_jobs', refit=True, return_train_score=True,\n",
       "             scoring='accuracy', verbose=0)"
      ]
     },
     "execution_count": 39,
     "metadata": {},
     "output_type": "execute_result"
    }
   ],
   "source": [
    "%%time\n",
    "svm_params2 = {'C': np.linspace(1e-3, 1, 30)}\n",
    "\n",
    "svm_grid_searcher2 = GridSearchCV(svm, param_grid=svm_params2, scoring=\"accuracy\",\n",
    "                                 n_jobs=-1, cv=skf, return_train_score=True)\n",
    "svm_grid_searcher2.fit(X_train, y_train)"
   ]
  },
  {
   "cell_type": "markdown",
   "metadata": {},
   "source": [
    "Выведите лучшее значение доли правильных ответов на кросс-валидации и соответствующее значение `C`."
   ]
  },
  {
   "cell_type": "code",
   "execution_count": 40,
   "metadata": {},
   "outputs": [
    {
     "name": "stdout",
     "output_type": "stream",
     "text": [
      "best score 0.7649867913025807 and best C 0.24213793103448275\n"
     ]
    }
   ],
   "source": [
    "print(f\"best score {svm_grid_searcher2.best_score_} and best C {svm_grid_searcher2.best_params_['C']}\")"
   ]
  },
  {
   "cell_type": "markdown",
   "metadata": {},
   "source": [
    "Нарисуйте график зависимости доли правильных ответов на кросс-валидации от С."
   ]
  },
  {
   "cell_type": "code",
   "execution_count": 41,
   "metadata": {},
   "outputs": [
    {
     "data": {
      "image/png": "[encoded data removed]",
      "text/plain": [
       "<Figure size 432x288 with 1 Axes>"
      ]
     },
     "metadata": {
      "needs_background": "light"
     },
     "output_type": "display_data"
    }
   ],
   "source": [
    "plot_validation_curves(svm_params2['C'], svm_grid_searcher2.cv_results_)"
   ]
  },
  {
   "cell_type": "markdown",
   "metadata": {},
   "source": [
    "Выведите долю правильных ответов на выборке `(X_valid, y_valid)` для `LinearSVC` с лучшим найденным значением `C`."
   ]
  },
  {
   "cell_type": "code",
   "execution_count": 42,
   "metadata": {},
   "outputs": [],
   "source": [
    "svm_cv_acc = accuracy_score(y_valid, svm_grid_searcher2.predict(X_valid))"
   ]
  },
  {
   "cell_type": "markdown",
   "metadata": {},
   "source": [
    "**<font color='red'>Вопрос 4. </font> Посчитайте доли правильных ответов для `svm_grid_searcher2` на кросс-валидации для лучшего значения параметра `C` и на отложенной выборке. Округлите каждое до 3 знаков после запятой и выведите через пробел.**"
   ]
  },
  {
   "cell_type": "code",
   "execution_count": 43,
   "metadata": {},
   "outputs": [],
   "source": [
    "write_answer(4, [svm_grid_searcher2.best_score_, svm_cv_acc])"
   ]
  },
  {
   "cell_type": "markdown",
   "metadata": {},
   "source": [
    "## Часть 2. Выбор параметров – длины сессии и ширины окна"
   ]
  },
  {
   "cell_type": "markdown",
   "metadata": {},
   "source": [
    "**Возьмем `LinearSVC`, показавший лучшее качество на кросс-валидации в 1 части, и проверим его работу еще на 8 выборках для 10 пользователей (с разными сочетаниями параметров *session_length* и *window_size*). Поскольку тут уже вычислений побольше, мы не будем каждый раз заново подбирать параметр регуляризации `C`.**\n",
    "\n",
    "**Определите функцию `model_assessment`, ее документация описана ниже. Обратите внимание на все детали. Например, на то, что разбиение  выборки с `train_test_split` должно быть стратифицированным. Не теряйте нигде `random_state`.**"
   ]
  },
  {
   "cell_type": "code",
   "execution_count": 44,
   "metadata": {},
   "outputs": [],
   "source": [
    "import time"
   ]
  },
  {
   "cell_type": "code",
   "execution_count": 45,
   "metadata": {},
   "outputs": [],
   "source": [
    "def model_assessment(estimator, path_to_X_pickle, path_to_y_pickle, cv, random_state=17, test_size=0.3):\n",
    "    '''\n",
    "    Estimates CV-accuracy for (1 - test_size) share of (X_sparse, y) \n",
    "    loaded from path_to_X_pickle and path_to_y_pickle and holdout accuracy for (test_size) share of (X_sparse, y).\n",
    "    The split is made with stratified train_test_split with params random_state and test_size.\n",
    "    \n",
    "    :param estimator – Scikit-learn estimator (classifier or regressor)\n",
    "    :param path_to_X_pickle – path to pickled sparse X (instances and their features)\n",
    "    :param path_to_y_pickle – path to pickled y (responses)\n",
    "    :param cv – cross-validation as in cross_val_score (use StratifiedKFold here)\n",
    "    :param random_state –  for train_test_split\n",
    "    :param test_size –  for train_test_split\n",
    "    \n",
    "    :returns mean CV-accuracy for (X_train, y_train) and accuracy for (X_valid, y_valid) where (X_train, y_train)\n",
    "    and (X_valid, y_valid) are (1 - test_size) and (testsize) shares of (X_sparse, y).\n",
    "    \n",
    "    '''\n",
    "    \n",
    "    start = time.time()\n",
    "    \n",
    "    x_pkl = open(path_to_X_pickle, \"rb\")\n",
    "    y_pkl = open(path_to_y_pickle, \"rb\")\n",
    "    X_sparse = pickle.load(x_pkl)\n",
    "    y = pickle.load(y_pkl)\n",
    "    \n",
    "    X_train, X_valid, y_train, y_valid = train_test_split(X_sparse, y, \n",
    "                                                      test_size=test_size, \n",
    "                                                     random_state=random_state, stratify=y)\n",
    "    \n",
    "    CV_accuracy = cross_val_score(estimator, X_train, y_train, \n",
    "                                  cv=cv, scoring=\"accuracy\").mean()\n",
    "    \n",
    "    estimator.fit(X_train, y_train)\n",
    "    accuracy = accuracy_score(y_valid, estimator.predict(X_valid))\n",
    "    \n",
    "    return CV_accuracy, accuracy, time.time() - start"
   ]
  },
  {
   "cell_type": "markdown",
   "metadata": {},
   "source": [
    "**Убедитесь, что функция работает.**"
   ]
  },
  {
   "cell_type": "code",
   "execution_count": 46,
   "metadata": {},
   "outputs": [
    {
     "name": "stdout",
     "output_type": "stream",
     "text": [
      "best score 0.7649865831742932 and 0.7835980090068737\n"
     ]
    }
   ],
   "source": [
    "res = cross_val_score(svm_grid_searcher2.best_estimator_, X_train, y_train, \n",
    "                                  cv=skf, scoring=\"accuracy\").mean()\n",
    "print(f\"best score {res} and {svm_cv_acc}\")"
   ]
  },
  {
   "cell_type": "code",
   "execution_count": 47,
   "metadata": {},
   "outputs": [
    {
     "data": {
      "text/plain": [
       "(0.7649865831742932, 0.7835980090068737, 3.9443488121032715)"
      ]
     },
     "execution_count": 47,
     "metadata": {},
     "output_type": "execute_result"
    }
   ],
   "source": [
    "model_assessment(svm_grid_searcher2.best_estimator_, \n",
    "                 os.path.join(PATH_TO_DATA, 'X_sparse_10users.pkl'),\n",
    "        os.path.join(PATH_TO_DATA, 'y_10users.pkl'), skf, random_state=17, test_size=0.3)"
   ]
  },
  {
   "cell_type": "markdown",
   "metadata": {},
   "source": [
    "**Примените функцию *model_assessment* для лучшего алгоритма из предыдущей части (а именно, `svm_grid_searcher2.best_estimator_`) и 9 выборок вида с разными сочетаниями параметров *session_length* и *window_size* для 10 пользователей. Выведите в цикле параметры *session_length* и *window_size*, а также результат вывода функции *model_assessment*. \n",
    "Удобно сделать так, чтоб *model_assessment* возвращала 3-им элементом время, за которое она выполнилась. На моем ноуте этот участок кода выполнился за 20 секунд. Но со 150 пользователями каждая итерация занимает уже несколько минут.**"
   ]
  },
  {
   "cell_type": "markdown",
   "metadata": {},
   "source": [
    "Здесь для удобства стоит создать копии ранее созданных pickle-файлов X_sparse_10users.pkl, X_sparse_150users.pkl, y_10users.pkl и y_150users.pkl, добавив к их названиям s10_w10, что означает длину сессии 10 и ширину окна 10. "
   ]
  },
  {
   "cell_type": "code",
   "execution_count": 48,
   "metadata": {},
   "outputs": [
    {
     "name": "stdout",
     "output_type": "stream",
     "text": [
      "window size=10, session length=15, \n",
      "              cross_val_acc: 0.8190452553622495, accurcay: 0.8416686418582603, time: 6.014250993728638\n",
      "window size=10, session length=10, \n",
      "              cross_val_acc: 0.7649865831742932, accurcay: 0.7835980090068737, time: 5.619012117385864\n",
      "window size=7, session length=15, \n",
      "              cross_val_acc: 0.8472949188343161, accurcay: 0.8592998174879708, time: 8.066719055175781\n",
      "window size=7, session length=10, \n",
      "              cross_val_acc: 0.8025564237115859, accurcay: 0.8070350091256014, time: 5.308503150939941\n",
      "window size=7, session length=7, \n",
      "              cross_val_acc: 0.7551189999597661, accurcay: 0.7511199601791936, time: 3.2500743865966797\n",
      "window size=5, session length=15, \n",
      "              cross_val_acc: 0.8720160425233194, accurcay: 0.880393551446183, time: 10.87332558631897\n",
      "window size=5, session length=10, \n",
      "              cross_val_acc: 0.8155681702373564, accurcay: 0.8283546704599336, time: 7.2105488777160645\n",
      "window size=5, session length=7, \n",
      "              cross_val_acc: 0.7743120580980055, accurcay: 0.7840208629682314, time: 4.302271604537964\n",
      "window size=5, session length=5, \n",
      "              cross_val_acc: 0.7259945169127566, accurcay: 0.7386201991465149, time: 2.7453694343566895\n",
      "Wall time: 53.4 s\n"
     ]
    }
   ],
   "source": [
    "%%time\n",
    "estimator = svm_grid_searcher2.best_estimator_\n",
    "\n",
    "for window_size, session_length in itertools.product([10, 7, 5], [15, 10, 7, 5]):\n",
    "    if window_size <= session_length:\n",
    "        path_to_X_pkl = os.path.join(PATH_TO_DATA, \n",
    "                                     f'X_sparse_10users_s{session_length}_w{window_size}.pkl')\n",
    "        path_to_y_pkl = os.path.join(PATH_TO_DATA, \n",
    "                                     f'y_10users_s{session_length}_w{window_size}.pkl')\n",
    "        \n",
    "        cv_acc, acc, sp_time = model_assessment(svm_grid_searcher2.best_estimator_, \n",
    "                                             path_to_X_pkl, path_to_y_pkl,skf,\n",
    "                                             random_state=17, test_size=0.3)\n",
    "        \n",
    "        print(f\"window size={window_size}, session length={session_length}, \\n\\\n",
    "              cross_val_acc: {cv_acc}, accurcay: {acc}, time: {sp_time}\")"
   ]
  },
  {
   "cell_type": "markdown",
   "metadata": {},
   "source": [
    "**<font color='red'>Вопрос 5. </font> Посчитайте доли правильных ответов для `LinearSVC` с настроенным параметром `C` и выборки `X_sparse_10users_s15_w5`. Укажите доли правильных ответов на кросс-валидации и на отложенной выборке. Округлите каждое до 3 знаков после запятой и выведите через пробел.**"
   ]
  },
  {
   "cell_type": "code",
   "execution_count": 49,
   "metadata": {},
   "outputs": [],
   "source": [
    "write_answer(5, [0.8720160425233194, 0.880393551446183])"
   ]
  },
  {
   "cell_type": "markdown",
   "metadata": {},
   "source": [
    "**Прокомментируйте полученные результаты. Сравните для 150 пользователей доли правильных ответов на кросс-валидации и оставленной выборке для сочетаний параметров (*session_length, window_size*): (5,5), (7,7) и (10,10). На среднем ноуте это может занять до часа – запаситесь терпением, это Data Science :) **\n",
    "\n",
    "**Сделайте вывод о том, как качество классификации зависит от длины сессии и ширины окна.**"
   ]
  },
  {
   "cell_type": "code",
   "execution_count": 50,
   "metadata": {},
   "outputs": [
    {
     "name": "stdout",
     "output_type": "stream",
     "text": [
      "window size=5, session length=5, \n",
      "              cross_val_acc: 0.4113590745976674, accurcay: 0.4230666277315423, time: 542.9325993061066\n",
      "window size=7, session length=7, \n",
      "              cross_val_acc: 0.43751731640896385, accurcay: 0.45236229859999316, time: 433.17919993400574\n",
      "Wall time: 16min 16s\n"
     ]
    }
   ],
   "source": [
    "%%time\n",
    "estimator = svm_grid_searcher2.best_estimator_\n",
    "\n",
    "for window_size, session_length in [(5,5), (7,7)]:\n",
    "        path_to_X_pkl = os.path.join(PATH_TO_DATA, \n",
    "                                     f'X_sparse_150users_s{session_length}_w{window_size}.pkl')\n",
    "        path_to_y_pkl = os.path.join(PATH_TO_DATA, \n",
    "                                     f'y_150users_s{session_length}_w{window_size}.pkl')\n",
    "        \n",
    "        cv_acc, acc, sp_time = model_assessment(svm_grid_searcher2.best_estimator_, \n",
    "                                             path_to_X_pkl, path_to_y_pkl,skf,\n",
    "                                             random_state=17, test_size=0.3)\n",
    "        \n",
    "        print(f\"window size={window_size}, session length={session_length}, \\n\\\n",
    "              cross_val_acc: {cv_acc}, accurcay: {acc}, time: {sp_time}\")"
   ]
  },
  {
   "cell_type": "markdown",
   "metadata": {},
   "source": [
    "**<font color='red'>Вопрос 6. </font> Посчитайте доли правильных ответов для `LinearSVC` с настроенным параметром `C` и выборки `X_sparse_150users`. Укажите доли правильных ответов на кросс-валидации и на отложенной выборке. Округлите каждое до 3 знаков после запятой и выведите через пробел.**"
   ]
  },
  {
   "cell_type": "code",
   "execution_count": 51,
   "metadata": {},
   "outputs": [],
   "source": [
    "path_to_X_pkl = os.path.join(PATH_TO_DATA, \n",
    "                                 f'X_sparse_150users.pkl')\n",
    "path_to_y_pkl = os.path.join(PATH_TO_DATA, \n",
    "                                     f'y_150users.pkl')\n",
    "        \n",
    "cv_acc, acc, sp_time = model_assessment(svm_grid_searcher2.best_estimator_, \n",
    "                                             path_to_X_pkl, path_to_y_pkl,skf,\n",
    "                                             random_state=17, test_size=0.3)\n",
    "        "
   ]
  },
  {
   "cell_type": "code",
   "execution_count": 52,
   "metadata": {},
   "outputs": [],
   "source": [
    "write_answer(6, [0.4602495609116246, 0.4841628959276018])"
   ]
  },
  {
   "cell_type": "markdown",
   "metadata": {},
   "source": [
    "## Часть 3. Идентификация  конкретного пользователя и кривые обучения"
   ]
  },
  {
   "cell_type": "markdown",
   "metadata": {},
   "source": [
    "**Поскольку может разочаровать, что многоклассовая доля правильных ответов на выборке из 150 пользовалей невелика, порадуемся тому, что конкретного пользователя можно идентифицировать достаточно хорошо. **"
   ]
  },
  {
   "cell_type": "markdown",
   "metadata": {},
   "source": [
    "**Загрузим сериализованные ранее объекты *X_sparse_150users* и *y_150users*, соответствующие обучающей выборке для 150 пользователей с параметрами (*session_length, window_size*) = (10,10). Так же точно разобьем их на 70% и 30%.**"
   ]
  },
  {
   "cell_type": "code",
   "execution_count": 53,
   "metadata": {},
   "outputs": [],
   "source": [
    "with open(os.path.join(PATH_TO_DATA, 'X_sparse_150users.pkl'), 'rb') as X_sparse_150users_pkl:\n",
    "     X_sparse_150users = pickle.load(X_sparse_150users_pkl)\n",
    "with open(os.path.join(PATH_TO_DATA, 'y_150users.pkl'), 'rb') as y_150users_pkl:\n",
    "    y_150users = pickle.load(y_150users_pkl)"
   ]
  },
  {
   "cell_type": "code",
   "execution_count": 54,
   "metadata": {},
   "outputs": [],
   "source": [
    "X_train_150, X_valid_150, y_train_150, y_valid_150 = train_test_split(X_sparse_150users, \n",
    "                                                                      y_150users, test_size=0.3, \n",
    "                                                     random_state=17, stratify=y_150users)"
   ]
  },
  {
   "cell_type": "markdown",
   "metadata": {},
   "source": [
    "**Обучите `LogisticRegressionCV` для одного значения параметра `C` (лучшего на кросс-валидации в 1 части, используйте точное значение, не на глаз). Теперь будем решать 150 задач \"Один-против-Всех\", поэтому укажите аргумент `multi_class`='ovr'. Как всегда, где возможно, указывайте `n_jobs=-1` и `random_state`=17.**"
   ]
  },
  {
   "cell_type": "code",
   "execution_count": 97,
   "metadata": {},
   "outputs": [
    {
     "data": {
      "text/plain": [
       "3.7315789473684213"
      ]
     },
     "execution_count": 97,
     "metadata": {},
     "output_type": "execute_result"
    }
   ],
   "source": [
    "logit_grid_searcher2.Cs[10]"
   ]
  },
  {
   "cell_type": "code",
   "execution_count": 98,
   "metadata": {},
   "outputs": [
    {
     "name": "stdout",
     "output_type": "stream",
     "text": [
      "Wall time: 4min 45s\n"
     ]
    },
    {
     "data": {
      "text/plain": [
       "LogisticRegressionCV(Cs=[3.7315789473684213], class_weight=None,\n",
       "                     cv=StratifiedKFold(n_splits=3, random_state=17, shuffle=True),\n",
       "                     dual=False, fit_intercept=True, intercept_scaling=1.0,\n",
       "                     l1_ratios=None, max_iter=100, multi_class='ovr', n_jobs=-1,\n",
       "                     penalty='l2', random_state=17, refit=True, scoring=None,\n",
       "                     solver='lbfgs', tol=0.0001, verbose=0)"
      ]
     },
     "execution_count": 98,
     "metadata": {},
     "output_type": "execute_result"
    }
   ],
   "source": [
    "%%time\n",
    "logit_cv_150users = LogisticRegressionCV(Cs=[logit_grid_searcher2.Cs[10]], cv=skf,\n",
    "                                           multi_class=\"ovr\", random_state=17,\n",
    "                                           n_jobs=-1)\n",
    "logit_cv_150users.fit(X_train_150, y_train_150)"
   ]
  },
  {
   "cell_type": "markdown",
   "metadata": {},
   "source": [
    "**Посмотрите на средние доли правильных ответов на кросс-валидации в задаче идентификации каждого пользователя по отдельности.**"
   ]
  },
  {
   "cell_type": "code",
   "execution_count": 118,
   "metadata": {},
   "outputs": [
    {
     "name": "stdout",
     "output_type": "stream",
     "text": [
      "User 1, CV score: 0.9960793346553416\n",
      "User 2, CV score: 0.9963509534561782\n",
      "User 3, CV score: 0.9952039715108505\n",
      "User 4, CV score: 0.9920242525060452\n",
      "User 5, CV score: 0.9904076911403137\n",
      "User 6, CV score: 0.9942447330306018\n",
      "User 7, CV score: 0.9935983376625162\n",
      "User 8, CV score: 0.9860602484886853\n",
      "User 9, CV score: 0.9979149213024526\n",
      "User 10, CV score: 0.9951313515924252\n",
      "User 11, CV score: 0.9942453108161621\n",
      "User 12, CV score: 0.9936193152035542\n",
      "User 13, CV score: 0.9969451635892863\n",
      "User 14, CV score: 0.9946719907486496\n",
      "User 15, CV score: 0.9962258117704225\n",
      "User 16, CV score: 0.9963507844291443\n",
      "User 17, CV score: 0.9904708257226696\n",
      "User 18, CV score: 0.9944011192344542\n",
      "User 19, CV score: 0.9945158525342351\n",
      "User 20, CV score: 0.9914816590283939\n",
      "User 21, CV score: 0.9810038304200542\n",
      "User 22, CV score: 0.99694520088749\n",
      "User 23, CV score: 0.9948082807971695\n",
      "User 24, CV score: 0.9911066107455389\n",
      "User 25, CV score: 0.9967263654154571\n",
      "User 26, CV score: 0.9942448783314676\n",
      "User 27, CV score: 0.9950894565866276\n",
      "User 28, CV score: 0.9916174700879763\n",
      "User 29, CV score: 0.9849024571827553\n",
      "User 30, CV score: 0.9971433978206465\n",
      "User 31, CV score: 0.9970911985395866\n",
      "User 32, CV score: 0.9967891294855842\n",
      "User 33, CV score: 0.9973932956857534\n",
      "User 34, CV score: 0.9965489295439679\n",
      "User 35, CV score: 0.9968620622101939\n",
      "User 36, CV score: 0.9975914030283265\n",
      "User 37, CV score: 0.9877807284795056\n",
      "User 38, CV score: 0.9964028907017183\n",
      "User 39, CV score: 0.9962989047900739\n",
      "User 40, CV score: 0.9966114911808065\n",
      "User 41, CV score: 0.9901993584848822\n",
      "User 42, CV score: 0.9890837265905038\n",
      "User 43, CV score: 0.996236221104491\n",
      "User 44, CV score: 0.9956209772460158\n",
      "User 45, CV score: 0.995933648387289\n",
      "User 46, CV score: 0.9951100621932962\n",
      "User 47, CV score: 0.9960798431585842\n",
      "User 48, CV score: 0.9969138706707593\n",
      "User 49, CV score: 0.9949329745300082\n",
      "User 50, CV score: 0.9963924014571525\n",
      "User 51, CV score: 0.9920037495879486\n",
      "User 52, CV score: 0.9960902796367236\n",
      "User 53, CV score: 0.9958503775071158\n",
      "User 54, CV score: 0.9948183685930613\n",
      "User 55, CV score: 0.9973621819483934\n",
      "User 56, CV score: 0.9898551779457113\n",
      "User 57, CV score: 0.9926497739697585\n",
      "User 58, CV score: 0.9965074543989229\n",
      "User 59, CV score: 0.9870090504907947\n",
      "User 60, CV score: 0.9895215437835292\n",
      "User 61, CV score: 0.9941612350428781\n",
      "User 62, CV score: 0.9901681415849032\n",
      "User 63, CV score: 0.9957463450912285\n",
      "User 64, CV score: 0.9912004130085248\n",
      "User 65, CV score: 0.9972059027991094\n",
      "User 66, CV score: 0.9957982620285026\n",
      "User 67, CV score: 0.9975917798027387\n",
      "User 68, CV score: 0.9958816365453416\n",
      "User 69, CV score: 0.9964551645791858\n",
      "User 70, CV score: 0.9967263271691597\n",
      "User 71, CV score: 0.9962675043429318\n",
      "User 72, CV score: 0.9972788965480911\n",
      "User 73, CV score: 0.996621937813079\n",
      "User 74, CV score: 0.9918988812429301\n",
      "User 75, CV score: 0.9965802457146165\n",
      "User 76, CV score: 0.9923785416234202\n",
      "User 77, CV score: 0.9976229313123494\n",
      "User 78, CV score: 0.9963614712669555\n",
      "User 79, CV score: 0.9963612121752913\n",
      "User 80, CV score: 0.9913567115179811\n",
      "User 81, CV score: 0.996747041726584\n",
      "User 82, CV score: 0.9943490420021384\n",
      "User 83, CV score: 0.996340558642239\n",
      "User 84, CV score: 0.9969034666507808\n",
      "User 85, CV score: 0.9951935539188365\n",
      "User 86, CV score: 0.9969658960847423\n",
      "User 87, CV score: 0.9979252265258086\n",
      "User 88, CV score: 0.9891879706457191\n",
      "User 89, CV score: 0.9969868222814943\n",
      "User 90, CV score: 0.9953497206994624\n",
      "User 91, CV score: 0.9938906332485266\n",
      "User 92, CV score: 0.9939319955508666\n",
      "User 93, CV score: 0.9843401332219571\n",
      "User 94, CV score: 0.9968094338623418\n",
      "User 95, CV score: 0.9957459872029415\n",
      "User 96, CV score: 0.9918049191589494\n",
      "User 97, CV score: 0.9894279822001292\n",
      "User 98, CV score: 0.998248518166431\n",
      "User 99, CV score: 0.9906270486876249\n",
      "User 100, CV score: 0.9904913857731891\n",
      "User 101, CV score: 0.9940258535241348\n",
      "User 102, CV score: 0.9865713921706707\n",
      "User 103, CV score: 0.9811910431774377\n",
      "User 104, CV score: 0.9810656133597594\n",
      "User 105, CV score: 0.9915860028283254\n",
      "User 106, CV score: 0.9957668664214037\n",
      "User 107, CV score: 0.9976644350236058\n",
      "User 108, CV score: 0.9972473924642834\n",
      "User 109, CV score: 0.9975812624660083\n",
      "User 110, CV score: 0.9972057855904081\n",
      "User 111, CV score: 0.9951308799133396\n",
      "User 112, CV score: 0.997028599604544\n",
      "User 113, CV score: 0.9966534278508044\n",
      "User 114, CV score: 0.9969346695046774\n",
      "User 115, CV score: 0.9958816510654707\n",
      "User 116, CV score: 0.9964343802653969\n",
      "User 117, CV score: 0.9947763805787774\n",
      "User 118, CV score: 0.996507322196046\n",
      "User 119, CV score: 0.9968097820705428\n",
      "User 120, CV score: 0.995787806190191\n",
      "User 121, CV score: 0.9963928155297684\n",
      "User 122, CV score: 0.9966117585304165\n",
      "User 123, CV score: 0.9967992405335973\n",
      "User 124, CV score: 0.9956729227495015\n",
      "User 125, CV score: 0.9948284955833437\n",
      "User 126, CV score: 0.996955802500714\n",
      "User 127, CV score: 0.9983109568064319\n",
      "User 128, CV score: 0.9965696673535138\n",
      "User 129, CV score: 0.9957148870376168\n",
      "User 130, CV score: 0.9906790890957836\n",
      "User 131, CV score: 0.9934005064015453\n",
      "User 132, CV score: 0.997247511095125\n",
      "User 133, CV score: 0.9969036313118186\n",
      "User 134, CV score: 0.9965802413486201\n",
      "User 135, CV score: 0.9979045352205057\n",
      "User 136, CV score: 0.9972475997376149\n",
      "User 137, CV score: 0.996966014241537\n",
      "User 138, CV score: 0.9933789971051432\n",
      "User 139, CV score: 0.995172398144725\n",
      "User 140, CV score: 0.9964550149123239\n",
      "User 141, CV score: 0.9968619164352814\n",
      "User 142, CV score: 0.997820944224296\n",
      "User 143, CV score: 0.9957359357571599\n",
      "User 144, CV score: 0.9951832864677309\n",
      "User 145, CV score: 0.9972786664966851\n",
      "User 146, CV score: 0.9958708092467075\n",
      "User 147, CV score: 0.993723381025696\n",
      "User 148, CV score: 0.996684470883706\n",
      "User 149, CV score: 0.9961111307630212\n",
      "User 150, CV score: 0.9970912736100409\n"
     ]
    }
   ],
   "source": [
    "cv_scores_by_user1 = logit_cv_150users.scores_\n",
    "for user_id in logit_cv_150users.scores_:\n",
    "    print('User {}, CV score: {}'.format(user_id, cv_scores_by_user[user_id].mean()))"
   ]
  },
  {
   "cell_type": "markdown",
   "metadata": {},
   "source": [
    "**Результаты кажутся впечатляющими, но возможно, мы забываем про дисбаланс классов, и высокую долю правильных ответов можно получить константным прогнозом. Посчитайте для каждого пользователя разницу между долей правильных ответов на кросс-валидации (только что посчитанную с помощью `LogisticRegressionCV`) и долей меток в *y_train_150*, отличных от ID \n",
    " этого пользователя (именно такую долю правильных ответов можно получить, если классификатор всегда \"говорит\", что это не пользователь с номером $i$ в задаче классификации $i$-vs-All).**"
   ]
  },
  {
   "cell_type": "code",
   "execution_count": 119,
   "metadata": {},
   "outputs": [
    {
     "name": "stdout",
     "output_type": "stream",
     "text": [
      "User 1, CV score: 0.011676803194538565\n",
      "User 2, CV score: 0.000646512973657587\n",
      "User 3, CV score: 0.0008027954450408048\n",
      "User 4, CV score: 0.007308937585231545\n",
      "User 5, CV score: 0.002460280466056841\n",
      "User 6, CV score: -0.00020857361187631707\n",
      "User 7, CV score: 0.0010530101261029268\n",
      "User 8, CV score: 0.0021477444485656916\n",
      "User 9, CV score: 0.0007925291345504126\n",
      "User 10, CV score: 0.001303611869968302\n",
      "User 11, CV score: 9.436151836095252e-05\n",
      "User 12, CV score: 0.0015744412031579724\n",
      "User 13, CV score: 2.0867612724240203e-05\n",
      "User 14, CV score: -0.00018793439184228156\n",
      "User 15, CV score: -0.0001250478627867757\n",
      "User 16, CV score: 0.000156316525940281\n",
      "User 17, CV score: 0.00039648752034049384\n",
      "User 18, CV score: 0.0002501699366530552\n",
      "User 19, CV score: -0.0002293853375862076\n",
      "User 20, CV score: 0.0010424067893856082\n",
      "User 21, CV score: 0.00400384084616956\n",
      "User 22, CV score: 0.0009279769449587194\n",
      "User 23, CV score: 0.007590698196270784\n",
      "User 24, CV score: 0.0011052553505455087\n",
      "User 25, CV score: 0.0007821242802616979\n",
      "User 26, CV score: 0.0005839564543497211\n",
      "User 27, CV score: 0.0010323423268296938\n",
      "User 28, CV score: 0.004107956257734302\n",
      "User 29, CV score: 0.005306364890782289\n",
      "User 30, CV score: 3.14317680780718e-05\n",
      "User 31, CV score: 0.00031286817769615727\n",
      "User 32, CV score: 0.000250599776368543\n",
      "User 33, CV score: 0.0003126079791859748\n",
      "User 34, CV score: 0.00029190494876185635\n",
      "User 35, CV score: 0.0003652369623130536\n",
      "User 36, CV score: 0.0014073612404562619\n",
      "User 37, CV score: 0.0014180873359692647\n",
      "User 38, CV score: -6.265620016154827e-05\n",
      "User 39, CV score: 6.273242553522795e-05\n",
      "User 40, CV score: -0.00013556083508292627\n",
      "User 41, CV score: 0.001417858583930287\n",
      "User 42, CV score: 0.0010737592242447969\n",
      "User 43, CV score: -3.122960604884373e-05\n",
      "User 44, CV score: -0.0001564460438405746\n",
      "User 45, CV score: -0.00016698447791174686\n",
      "User 46, CV score: 0.000448233244144447\n",
      "User 47, CV score: 0.0003128459840614495\n",
      "User 48, CV score: -0.00020852149714289947\n",
      "User 49, CV score: -0.00016675126315857103\n",
      "User 50, CV score: 9.367240061164406e-05\n",
      "User 51, CV score: 0.0020858031156246737\n",
      "User 52, CV score: 0.0005318047688745997\n",
      "User 53, CV score: 9.380644792678083e-05\n",
      "User 54, CV score: -0.0003647661227749177\n",
      "User 55, CV score: 0.0002814942418259969\n",
      "User 56, CV score: 0.0007504684694150665\n",
      "User 57, CV score: 0.0010532229287109063\n",
      "User 58, CV score: 0.0003025603803852306\n",
      "User 59, CV score: 0.001261550151945956\n",
      "User 60, CV score: 0.0043996103647017115\n",
      "User 61, CV score: 0.0004273303584244603\n",
      "User 62, CV score: 0.001928799681302995\n",
      "User 63, CV score: -0.00020832215930066678\n",
      "User 64, CV score: 0.0014284321508725162\n",
      "User 65, CV score: 0.0017308368539298291\n",
      "User 66, CV score: 0.0008236496193401166\n",
      "User 67, CV score: 0.00047981375017025485\n",
      "User 68, CV score: 0.0005421100995000039\n",
      "User 69, CV score: -0.0001772001680330204\n",
      "User 70, CV score: -9.37076540655779e-05\n",
      "User 71, CV score: 0.0012928919337692468\n",
      "User 72, CV score: 0.0013555076435630697\n",
      "User 73, CV score: 0.00011468644986434295\n",
      "User 74, CV score: -1.0453258128095833e-05\n",
      "User 75, CV score: -0.00019808464727399944\n",
      "User 76, CV score: 0.0013450008103916833\n",
      "User 77, CV score: 0.00040670410644405575\n",
      "User 78, CV score: -0.0002708934802633234\n",
      "User 79, CV score: 0.0010633901907844967\n",
      "User 80, CV score: 0.0021268886576806256\n",
      "User 81, CV score: 0.00011467697936518029\n",
      "User 82, CV score: 0.00018766658900348787\n",
      "User 83, CV score: 0.001094867234400665\n",
      "User 84, CV score: -0.0002502038631224668\n",
      "User 85, CV score: 0.00017723704833927378\n",
      "User 86, CV score: -0.00012521773715878926\n",
      "User 87, CV score: 0.0009070955112433499\n",
      "User 88, CV score: 0.001198855510127439\n",
      "User 89, CV score: 0.0008549110702924523\n",
      "User 90, CV score: 0.0001040292916240082\n",
      "User 91, CV score: -9.34982039355603e-05\n",
      "User 92, CV score: 0.00129283297645022\n",
      "User 93, CV score: 0.0033677937059374274\n",
      "User 94, CV score: 0.0005002786904673151\n",
      "User 95, CV score: 0.0006149830637737219\n",
      "User 96, CV score: -2.100641943936221e-05\n",
      "User 97, CV score: 0.004379031588637505\n",
      "User 98, CV score: 0.0025440776839104062\n",
      "User 99, CV score: -0.0003335093180677484\n",
      "User 100, CV score: 0.0018871298329098396\n",
      "User 101, CV score: -0.000364896426341188\n",
      "User 102, CV score: 0.006089080075334263\n",
      "User 103, CV score: 0.015148900819258904\n",
      "User 104, CV score: 0.002626819869825825\n",
      "User 105, CV score: 0.0009903588593118684\n",
      "User 106, CV score: 0.0007088450895716969\n",
      "User 107, CV score: 0.002595987576440084\n",
      "User 108, CV score: 0.0002084092190507425\n",
      "User 109, CV score: 0.0015640385234770848\n",
      "User 110, CV score: -4.1719961498376534e-05\n",
      "User 111, CV score: 0.0005524598868572594\n",
      "User 112, CV score: 0.0003545303959904267\n",
      "User 113, CV score: 0.0007508911769437132\n",
      "User 114, CV score: 6.25041047837005e-05\n",
      "User 115, CV score: 0.0006359596576323012\n",
      "User 116, CV score: 0.00025033847752664595\n",
      "User 117, CV score: 0.0011571631629943013\n",
      "User 118, CV score: 0.0006464899835200155\n",
      "User 119, CV score: 3.145170865237468e-05\n",
      "User 120, CV score: 0.0004795580903504959\n",
      "User 121, CV score: 0.0006258183552456664\n",
      "User 122, CV score: 0.0016579983519213748\n",
      "User 123, CV score: -0.0002397427116354045\n",
      "User 124, CV score: 0.0004585096876641437\n",
      "User 125, CV score: 0.005327593724367419\n",
      "User 126, CV score: -1.0197937182820915e-05\n",
      "User 127, CV score: 0.0013970869452034629\n",
      "User 128, CV score: -0.00020866300837663054\n",
      "User 129, CV score: 0.005577992143285471\n",
      "User 130, CV score: 0.0025752866915214057\n",
      "User 131, CV score: 0.0029195497012023397\n",
      "User 132, CV score: 0.0014596616899348325\n",
      "User 133, CV score: 0.0017309227113160297\n",
      "User 134, CV score: 0.00022938171541087016\n",
      "User 135, CV score: 0.0005736207459298148\n",
      "User 136, CV score: 0.00025032095371702034\n",
      "User 137, CV score: 0.00013555330297809753\n",
      "User 138, CV score: 0.004649627780859755\n",
      "User 139, CV score: 0.003429881489005804\n",
      "User 140, CV score: 0.0010216534284791523\n",
      "User 141, CV score: 0.000938527530753408\n",
      "User 142, CV score: 0.0014805107064204126\n",
      "User 143, CV score: 0.0003859831959847071\n",
      "User 144, CV score: 0.00035463967324012025\n",
      "User 145, CV score: -0.00015650913122777776\n",
      "User 146, CV score: 0.008434278223801273\n",
      "User 147, CV score: 0.0013031668732870205\n",
      "User 148, CV score: 0.00037531571183158086\n",
      "User 149, CV score: 0.0006464909331753699\n",
      "User 150, CV score: 0.0020436783935425806\n"
     ]
    }
   ],
   "source": [
    "class_distr = np.bincount(y_train_150.astype('int'))\n",
    "acc_diff_vs_constant = []\n",
    "for user_id in np.unique(y_train_150):\n",
    "    const_score = (class_distr.sum() - class_distr[user_id])/class_distr.sum()\n",
    "    print(f'User {user_id}, CV score: {cv_scores_by_user[user_id].mean() - const_score}')\n",
    "    acc_diff_vs_constant.append(cv_scores_by_user[user_id].mean() - const_score)"
   ]
  },
  {
   "cell_type": "code",
   "execution_count": 120,
   "metadata": {},
   "outputs": [
    {
     "data": {
      "text/plain": [
       "121"
      ]
     },
     "execution_count": 120,
     "metadata": {},
     "output_type": "execute_result"
    }
   ],
   "source": [
    "num_better_than_default = (np.array(acc_diff_vs_constant) > 0).sum()\n",
    "num_better_than_default"
   ]
  },
  {
   "cell_type": "markdown",
   "metadata": {},
   "source": [
    "**<font color='red'>Вопрос 7. </font> Посчитайте долю пользователей, для которых логистическая регрессия на кросс-валидации дает прогноз лучше константного. Округлите до 3 знаков после запятой.**"
   ]
  },
  {
   "cell_type": "code",
   "execution_count": 121,
   "metadata": {},
   "outputs": [],
   "source": [
    "write_answer(7, [num_better_than_default/len(acc_diff_vs_constant)])"
   ]
  },
  {
   "cell_type": "markdown",
   "metadata": {},
   "source": [
    "**Дальше будем строить кривые обучения для конкретного пользователя, допустим, для 128-го. Составьте новый бинарный вектор на основе *y_150users*, его значения будут 1 или 0 в зависимости от того, равен ли ID-шник пользователя 128.**"
   ]
  },
  {
   "cell_type": "code",
   "execution_count": 190,
   "metadata": {},
   "outputs": [
    {
     "data": {
      "text/plain": [
       "array([1, 1, 1, ..., 0, 0, 0])"
      ]
     },
     "execution_count": 190,
     "metadata": {},
     "output_type": "execute_result"
    }
   ],
   "source": [
    "y_binary_128 = y_150users == 1\n",
    "y_binary_128.astype('int')"
   ]
  },
  {
   "cell_type": "code",
   "execution_count": 193,
   "metadata": {},
   "outputs": [],
   "source": [
    "from sklearn.model_selection import learning_curve\n",
    "\n",
    "def plot_learning_curve(val_train, val_test, train_sizes, \n",
    "                        xlabel='Training Set Size', ylabel='score'):\n",
    "    def plot_with_err(x, data, **kwargs):\n",
    "        mu, std = data.mean(1), data.std(1)\n",
    "        lines = plt.plot(x, mu, '-', **kwargs)\n",
    "        plt.fill_between(x, mu - std, mu + std, edgecolor='none',\n",
    "                         facecolor=lines[0].get_color(), alpha=0.2)\n",
    "    plot_with_err(train_sizes, val_train, label='train')\n",
    "    plot_with_err(train_sizes, val_test, label='valid')\n",
    "    plt.xlabel(xlabel); plt.ylabel(ylabel)\n",
    "    plt.legend(loc='lower right');"
   ]
  },
  {
   "cell_type": "markdown",
   "metadata": {},
   "source": [
    "**Посчитайте доли правильных ответов на кросс-валидации в задаче классификации \"user128-vs-All\" в зависимости от размера выборки. Не помешает посмотреть встроенную документацию для *learning_curve*.**"
   ]
  },
  {
   "cell_type": "code",
   "execution_count": 194,
   "metadata": {},
   "outputs": [
    {
     "name": "stdout",
     "output_type": "stream",
     "text": [
      "Wall time: 3.67 s\n"
     ]
    }
   ],
   "source": [
    "%%time\n",
    "train_sizes = np.linspace(0.25, 1, 20)\n",
    "estimator = svm_grid_searcher2.best_estimator_\n",
    "n_train, val_train, val_test = learning_curve(estimator, X_sparse_150users,\n",
    "                                             y_binary_128,\n",
    "                                             cv=skf,n_jobs=-1)"
   ]
  },
  {
   "cell_type": "code",
   "execution_count": 195,
   "metadata": {},
   "outputs": [
    {
     "data": {
      "image/png": "[encoded data removed]",
      "text/plain": [
       "<Figure size 432x288 with 1 Axes>"
      ]
     },
     "metadata": {
      "needs_background": "light"
     },
     "output_type": "display_data"
    }
   ],
   "source": [
    "plot_learning_curve(val_train, val_test, n_train, \n",
    "                    xlabel='train_size', ylabel='accuracy')"
   ]
  },
  {
   "cell_type": "markdown",
   "metadata": {},
   "source": [
    "**Сделайте выводы о том, помогут ли алгоритму новые размеченные данные при той же постановке задачи.**"
   ]
  },
  {
   "cell_type": "markdown",
   "metadata": {},
   "source": [
    "## Пути улучшения\n",
    "- конечно, можно проверить еще кучу алгоритмов, например, Xgboost, но в такой задаче очень маловероятно, что что-то справится лучше линейных методов\n",
    "- интересно проверить качество алгоритма на данных, где сессии выделялись не по количеству посещенных сайтов, а по времени, например, 5, 7, 10 и 15 минут. Отдельно стоит отметить данные нашего [соревнования](https://inclass.kaggle.com/c/catch-me-if-you-can-intruder-detection-through-webpage-session-tracking2) \n",
    "- опять же, если ресурсы позволяют, можно проверить, насколько хорошо можно решить задачу для 3000 пользователей\n",
    "\n",
    "\n",
    "На следующей неделе мы вспомним про линейные модели, обучаемые стохастическим градиентным спуском, и порадуемся тому, насколько быстрее они работают. Также сделаем первые (или не первые) посылки в [соревновании](https://inclass.kaggle.com/c/catch-me-if-you-can-intruder-detection-through-webpage-session-tracking2) Kaggle Inclass."
   ]
  }
 ],
 "metadata": {
  "anaconda-cloud": {},
  "kernelspec": {
   "display_name": "Python 3",
   "language": "python",
   "name": "python3"
  },
  "language_info": {
   "codemirror_mode": {
    "name": "ipython",
    "version": 3
   },
   "file_extension": ".py",
   "mimetype": "text/x-python",
   "name": "python",
   "nbconvert_exporter": "python",
   "pygments_lexer": "ipython3",
   "version": "3.7.4"
  }
 },
 "nbformat": 4,
 "nbformat_minor": 1
}
